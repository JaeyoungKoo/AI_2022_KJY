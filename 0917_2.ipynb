{
  "nbformat": 4,
  "nbformat_minor": 0,
  "metadata": {
    "colab": {
      "provenance": [],
      "toc_visible": true,
      "authorship_tag": "ABX9TyPWhpnO6AcSn1ooi46w7CiP",
      "include_colab_link": true
    },
    "kernelspec": {
      "name": "python3",
      "display_name": "Python 3"
    },
    "language_info": {
      "name": "python"
    }
  },
  "cells": [
    {
      "cell_type": "markdown",
      "metadata": {
        "id": "view-in-github",
        "colab_type": "text"
      },
      "source": [
        "<a href=\"https://colab.research.google.com/github/JaeyoungKoo/AI_2022_KJY/blob/main/0917_2.ipynb\" target=\"_parent\"><img src=\"https://colab.research.google.com/assets/colab-badge.svg\" alt=\"Open In Colab\"/></a>"
      ]
    },
    {
      "cell_type": "code",
      "execution_count": 1,
      "metadata": {
        "colab": {
          "base_uri": "https://localhost:8080/"
        },
        "id": "HCTd70_qEV2D",
        "outputId": "1e7d3afb-fd55-4e4f-b007-321a6b7e55f2"
      },
      "outputs": [
        {
          "output_type": "execute_result",
          "data": {
            "text/plain": [
              "103"
            ]
          },
          "metadata": {},
          "execution_count": 1
        }
      ],
      "source": [
        "x = 3 # 값을 배정한다\n",
        "x+100"
      ]
    },
    {
      "cell_type": "code",
      "source": [
        "y = 5\n",
        "x * y"
      ],
      "metadata": {
        "colab": {
          "base_uri": "https://localhost:8080/"
        },
        "id": "JjcHlfxwEeGg",
        "outputId": "d878ac71-4abd-437c-d42f-8d4962cda177"
      },
      "execution_count": 2,
      "outputs": [
        {
          "output_type": "execute_result",
          "data": {
            "text/plain": [
              "15"
            ]
          },
          "metadata": {},
          "execution_count": 2
        }
      ]
    },
    {
      "cell_type": "markdown",
      "source": [
        "# 쥬피터 노트북은 문서 작성도 쉽게 지원한다\n",
        "## 작은제목\n",
        "### 더 작은 제목 (마크업 언어로 편집중)\n",
        "- 들여쓰기\n",
        "- 여러항목\n",
        " - 더 안으로\n",
        " - 내용 추가\n",
        "\n",
        "> 더 들여쓰기\n",
        "> 새로운 블록\n"
      ],
      "metadata": {
        "id": "e2F2q0ImE0PE"
      }
    },
    {
      "cell_type": "code",
      "source": [],
      "metadata": {
        "id": "OaJl2Dw-E7_p"
      },
      "execution_count": null,
      "outputs": []
    },
    {
      "cell_type": "markdown",
      "source": [
        "# 종료\n"
      ],
      "metadata": {
        "id": "UEupwnu-Fa4e"
      }
    },
    {
      "cell_type": "code",
      "source": [],
      "metadata": {
        "id": "cyIpFonHFgIJ"
      },
      "execution_count": null,
      "outputs": []
    }
  ]
}